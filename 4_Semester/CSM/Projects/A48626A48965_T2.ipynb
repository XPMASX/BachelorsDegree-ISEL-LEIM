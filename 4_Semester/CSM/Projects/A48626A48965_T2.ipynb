{
 "cells": [
  {
   "cell_type": "markdown",
   "id": "8a083fbb",
   "metadata": {},
   "source": [
    "CODIFICAÇÃo\n",
    "\n",
    "1- Ler ficheiro byte a byte\n",
    "nº simbolos\n",
    "probabilidades\n",
    "\n",
    "2. construir tabela huffman -> dicionario (simbolo:codigo)\n",
    "3. Codificar ficheiro\n",
    "4. Escrever tabela nºsimbolos\n",
    "[simbolo:8bits\n",
    "comprimento:5bits\n",
    "Codigo:...]\n",
    "\n",
    "5.Escrever Ficheiro - bit stuffing\n",
    "3bits contagem de bit stuffing"
   ]
  },
  {
   "cell_type": "code",
   "execution_count": 59,
   "id": "55e28ea5",
   "metadata": {},
   "outputs": [],
   "source": [
    "import numpy as np\n",
    "import matplotlib.pyplot as plt\n",
    "D={'a':'0','b':'10','c':'110','d':'1110','e':'1111'}"
   ]
  },
  {
   "cell_type": "code",
   "execution_count": 2,
   "id": "7ae7f5fe",
   "metadata": {},
   "outputs": [
    {
     "data": {
      "text/plain": [
       "{'a': '0', 'b': '10', 'c': '110', 'd': '1110', 'e': '1111'}"
      ]
     },
     "execution_count": 2,
     "metadata": {},
     "output_type": "execute_result"
    }
   ],
   "source": [
    "D"
   ]
  },
  {
   "cell_type": "code",
   "execution_count": 3,
   "id": "85b55271",
   "metadata": {},
   "outputs": [
    {
     "data": {
      "text/plain": [
       "'0'"
      ]
     },
     "execution_count": 3,
     "metadata": {},
     "output_type": "execute_result"
    }
   ],
   "source": [
    "D['a']"
   ]
  },
  {
   "cell_type": "code",
   "execution_count": 4,
   "id": "9e208d4e",
   "metadata": {},
   "outputs": [],
   "source": [
    "msg = 'aabcdeeedcdeabb'\n",
    "code =''"
   ]
  },
  {
   "cell_type": "code",
   "execution_count": 6,
   "id": "4f72541b",
   "metadata": {},
   "outputs": [
    {
     "name": "stdout",
     "output_type": "stream",
     "text": [
      "a 0\n",
      "a 0\n",
      "b 10\n",
      "c 110\n",
      "d 1110\n",
      "e 1111\n",
      "e 1111\n",
      "e 1111\n",
      "d 1110\n",
      "c 110\n",
      "d 1110\n",
      "e 1111\n",
      "a 0\n",
      "b 10\n",
      "b 10\n"
     ]
    }
   ],
   "source": [
    "for s in msg:\n",
    "    code = code+D[s]\n",
    "    print(s,D[s])"
   ]
  },
  {
   "cell_type": "code",
   "execution_count": 7,
   "id": "47d8c1ae",
   "metadata": {},
   "outputs": [
    {
     "data": {
      "text/plain": [
       "'0010110111011111111111111101101110111101010'"
      ]
     },
     "execution_count": 7,
     "metadata": {},
     "output_type": "execute_result"
    }
   ],
   "source": [
    "code"
   ]
  },
  {
   "cell_type": "code",
   "execution_count": 9,
   "id": "cff4e487",
   "metadata": {},
   "outputs": [
    {
     "data": {
      "text/plain": [
       "array([0.45454545, 0.18181818, 0.18181818, 0.09090909, 0.09090909])"
      ]
     },
     "execution_count": 9,
     "metadata": {},
     "output_type": "execute_result"
    }
   ],
   "source": [
    "p = np.array([5,2,2,1,1])\n",
    "p = p/np.sum(p)\n",
    "p"
   ]
  },
  {
   "cell_type": "code",
   "execution_count": 10,
   "id": "d599fe88",
   "metadata": {},
   "outputs": [
    {
     "data": {
      "text/plain": [
       "array([3, 4, 1, 2, 0], dtype=int64)"
      ]
     },
     "execution_count": 10,
     "metadata": {},
     "output_type": "execute_result"
    }
   ],
   "source": [
    "idx = np.argsort(p)\n",
    "idx"
   ]
  },
  {
   "cell_type": "code",
   "execution_count": 11,
   "id": "f0d6e9a8",
   "metadata": {},
   "outputs": [
    {
     "data": {
      "text/plain": [
       "4"
      ]
     },
     "execution_count": 11,
     "metadata": {},
     "output_type": "execute_result"
    }
   ],
   "source": [
    "i0 = idx[0]\n",
    "i1 = idx[1]\n",
    "i0\n",
    "i1"
   ]
  },
  {
   "cell_type": "code",
   "execution_count": 12,
   "id": "17373ff1",
   "metadata": {},
   "outputs": [
    {
     "data": {
      "text/plain": [
       "3"
      ]
     },
     "execution_count": 12,
     "metadata": {},
     "output_type": "execute_result"
    }
   ],
   "source": [
    "i0"
   ]
  },
  {
   "cell_type": "code",
   "execution_count": 13,
   "id": "14f447dd",
   "metadata": {},
   "outputs": [
    {
     "data": {
      "text/plain": [
       "[(0,), (1,), (2,), (3,), (4,)]"
      ]
     },
     "execution_count": 13,
     "metadata": {},
     "output_type": "execute_result"
    }
   ],
   "source": [
    "s = [(i,) for i in range(5)]\n",
    "s"
   ]
  },
  {
   "cell_type": "code",
   "execution_count": 14,
   "id": "572c3620",
   "metadata": {},
   "outputs": [
    {
     "data": {
      "text/plain": [
       "[(0,), (1,), (2,), (3, 4), (4,)]"
      ]
     },
     "execution_count": 14,
     "metadata": {},
     "output_type": "execute_result"
    }
   ],
   "source": [
    "s[i0] = s[i0] + s[i1]\n",
    "s"
   ]
  },
  {
   "cell_type": "code",
   "execution_count": 15,
   "id": "11d3b7fc",
   "metadata": {},
   "outputs": [
    {
     "data": {
      "text/plain": [
       "(4,)"
      ]
     },
     "execution_count": 15,
     "metadata": {},
     "output_type": "execute_result"
    }
   ],
   "source": [
    "s.pop(i1)"
   ]
  },
  {
   "cell_type": "code",
   "execution_count": 16,
   "id": "0b212d62",
   "metadata": {},
   "outputs": [
    {
     "data": {
      "text/plain": [
       "[(0,), (1,), (2,), (3, 4)]"
      ]
     },
     "execution_count": 16,
     "metadata": {},
     "output_type": "execute_result"
    }
   ],
   "source": [
    "s"
   ]
  },
  {
   "cell_type": "code",
   "execution_count": 17,
   "id": "fc70e9d9",
   "metadata": {},
   "outputs": [
    {
     "data": {
      "text/plain": [
       "array([0.45454545, 0.18181818, 0.18181818, 0.09090909, 0.09090909])"
      ]
     },
     "execution_count": 17,
     "metadata": {},
     "output_type": "execute_result"
    }
   ],
   "source": [
    "p"
   ]
  },
  {
   "cell_type": "code",
   "execution_count": 18,
   "id": "db28c347",
   "metadata": {},
   "outputs": [],
   "source": [
    "p[i0] = p[i0] + p[i1]"
   ]
  },
  {
   "cell_type": "code",
   "execution_count": 19,
   "id": "b04cfed5",
   "metadata": {},
   "outputs": [
    {
     "data": {
      "text/plain": [
       "array([0.45454545, 0.18181818, 0.18181818, 0.18181818, 0.09090909])"
      ]
     },
     "execution_count": 19,
     "metadata": {},
     "output_type": "execute_result"
    }
   ],
   "source": [
    "p"
   ]
  },
  {
   "cell_type": "code",
   "execution_count": 20,
   "id": "2583ef58",
   "metadata": {},
   "outputs": [
    {
     "data": {
      "text/plain": [
       "array([0.45454545, 0.18181818, 0.18181818, 0.18181818])"
      ]
     },
     "execution_count": 20,
     "metadata": {},
     "output_type": "execute_result"
    }
   ],
   "source": [
    "np.delete(p,i1)"
   ]
  },
  {
   "cell_type": "code",
   "execution_count": 23,
   "id": "3dc43803",
   "metadata": {},
   "outputs": [
    {
     "data": {
      "image/png": "[encoded data removed]",
      "text/plain": [
       "<Figure size 432x288 with 1 Axes>"
      ]
     },
     "metadata": {
      "needs_background": "light"
     },
     "output_type": "display_data"
    }
   ],
   "source": [
    "from time import time\n",
    "from os import path\n",
    "import numpy as np\n",
    "import cv2\n",
    "import matplotlib.pyplot as plt\n",
    "# Ler um dos ficheiros\n",
    "x = np.fromfile(\"Lena.tif\",dtype=\"uint8\")\n",
    "# Calcular o histogram\n",
    "h, bins, patches = plt.hist(x,256,[0,256])"
   ]
  },
  {
   "cell_type": "code",
   "execution_count": 39,
   "id": "765dfac0",
   "metadata": {},
   "outputs": [
    {
     "data": {
      "text/plain": [
       "numpy.ndarray"
      ]
     },
     "execution_count": 39,
     "metadata": {},
     "output_type": "execute_result"
    }
   ],
   "source": [
    "type(h)"
   ]
  },
  {
   "cell_type": "code",
   "execution_count": 166,
   "id": "a891b1d2",
   "metadata": {},
   "outputs": [
    {
     "name": "stdout",
     "output_type": "stream",
     "text": [
      "118.0 -> 0000000\n",
      "166.0 -> 00000010\n",
      "235.0 -> 00000011\n",
      "237.0 -> 00000100\n",
      "56.0 -> 00000101\n",
      "128.0 -> 0000011\n",
      "229.0 -> 00001000\n",
      "236.0 -> 00001001\n",
      "75.0 -> 0000101\n",
      "169.0 -> 00001100\n",
      "163.0 -> 00001101\n",
      "64.0 -> 0000111\n",
      "67.0 -> 0001000\n",
      "127.0 -> 0001001\n",
      "76.0 -> 0001010\n",
      "65.0 -> 0001011\n",
      "111.0 -> 0001100\n",
      "66.0 -> 0001101\n",
      "168.0 -> 00011100\n",
      "33.0 -> 000111010\n",
      "16.0 -> 000111011\n",
      "113.0 -> 0001111\n",
      "114.0 -> 0010000\n",
      "80.0 -> 0010001\n",
      "119.0 -> 0010010\n",
      "112.0 -> 0010011\n",
      "148.0 -> 00101000\n",
      "160.0 -> 00101001\n",
      "81.0 -> 0010101\n",
      "107.0 -> 0010110\n",
      "82.0 -> 0010111\n",
      "162.0 -> 00110000\n",
      "171.0 -> 00110001\n",
      "110.0 -> 0011001\n",
      "153.0 -> 00110100\n",
      "170.0 -> 00110101\n",
      "109.0 -> 0011011\n",
      "83.0 -> 0011100\n",
      "161.0 -> 00111010\n",
      "215.0 -> 00111011\n",
      "108.0 -> 0011110\n",
      "106.0 -> 0011111\n",
      "78.0 -> 0100000\n",
      "228.0 -> 01000010\n",
      "57.0 -> 01000011\n",
      "77.0 -> 0100010\n",
      "6.0 -> 010001100000\n",
      "254.0 -> 010001100001\n",
      "251.0 -> 01000110001\n",
      "246.0 -> 0100011001\n",
      "48.0 -> 010001101\n",
      "150.0 -> 01000111\n",
      "105.0 -> 0100100\n",
      "126.0 -> 0100101\n",
      "84.0 -> 0100110\n",
      "154.0 -> 01001110\n",
      "216.0 -> 01001111\n",
      "159.0 -> 01010000\n",
      "149.0 -> 01010001\n",
      "79.0 -> 0101001\n",
      "125.0 -> 0101010\n",
      "242.0 -> 010101100\n",
      "49.0 -> 010101101\n",
      "147.0 -> 01010111\n",
      "104.0 -> 0101100\n",
      "152.0 -> 01011010\n",
      "214.0 -> 01011011\n",
      "121.0 -> 0101110\n",
      "146.0 -> 01011110\n",
      "158.0 -> 01011111\n",
      "124.0 -> 0110000\n",
      "151.0 -> 01100010\n",
      "47.0 -> 011000110\n",
      "255.0 -> 0110001110\n",
      "9.0 -> 01100011110\n",
      "250.0 -> 01100011111\n",
      "85.0 -> 0110010\n",
      "120.0 -> 0110011\n",
      "182.0 -> 01101000\n",
      "155.0 -> 01101001\n",
      "122.0 -> 0110101\n",
      "145.0 -> 01101100\n",
      "183.0 -> 01101101\n",
      "87.0 -> 0110111\n",
      "86.0 -> 0111000\n",
      "103.0 -> 0111001\n",
      "123.0 -> 0111010\n",
      "144.0 -> 01110110\n",
      "157.0 -> 01110111\n",
      "156.0 -> 01111000\n",
      "191.0 -> 01111001\n",
      "217.0 -> 01111010\n",
      "213.0 -> 01111011\n",
      "172.0 -> 01111100\n",
      "32.0 -> 011111010\n",
      "50.0 -> 011111011\n",
      "190.0 -> 01111110\n",
      "180.0 -> 01111111\n",
      "142.0 -> 10000000\n",
      "193.0 -> 10000001\n",
      "198.0 -> 10000010\n",
      "186.0 -> 10000011\n",
      "102.0 -> 1000010\n",
      "181.0 -> 10000110\n",
      "195.0 -> 10000111\n",
      "58.0 -> 10001000\n",
      "192.0 -> 10001001\n",
      "173.0 -> 10001010\n",
      "143.0 -> 10001011\n",
      "141.0 -> 10001100\n",
      "189.0 -> 10001101\n",
      "174.0 -> 10001110\n",
      "178.0 -> 10001111\n",
      "88.0 -> 1001000\n",
      "245.0 -> 1001001000\n",
      "12.0 -> 1001001001\n",
      "31.0 -> 100100101\n",
      "196.0 -> 10010011\n",
      "197.0 -> 10010100\n",
      "184.0 -> 10010101\n",
      "101.0 -> 1001011\n",
      "188.0 -> 10011000\n",
      "199.0 -> 10011001\n",
      "185.0 -> 10011010\n",
      "218.0 -> 10011011\n",
      "179.0 -> 10011100\n",
      "175.0 -> 10011101\n",
      "187.0 -> 10011110\n",
      "51.0 -> 100111110\n",
      "17.0 -> 100111111\n",
      "177.0 -> 10100000\n",
      "227.0 -> 10100001\n",
      "89.0 -> 1010001\n",
      "194.0 -> 10100100\n",
      "176.0 -> 10100101\n",
      "140.0 -> 10100110\n",
      "200.0 -> 10100111\n",
      "90.0 -> 1010100\n",
      "100.0 -> 1010101\n",
      "212.0 -> 10101100\n",
      "201.0 -> 10101101\n",
      "241.0 -> 101011100\n",
      "52.0 -> 101011101\n",
      "219.0 -> 10101111\n",
      "59.0 -> 10110000\n",
      "211.0 -> 10110001\n",
      "99.0 -> 1011001\n",
      "91.0 -> 1011010\n",
      "139.0 -> 10110110\n",
      "138.0 -> 10110111\n",
      "18.0 -> 101110000\n",
      "3.0 -> 1011100010000\n",
      "4.0 -> 1011100010001\n",
      "253.0 -> 101110001001\n",
      "7.0 -> 101110001010\n",
      "252.0 -> 101110001011\n",
      "13.0 -> 1011100011\n",
      "30.0 -> 101110010\n",
      "53.0 -> 101110011\n",
      "92.0 -> 1011101\n",
      "96.0 -> 1011110\n",
      "98.0 -> 1011111\n",
      "97.0 -> 1100000\n",
      "226.0 -> 11000010\n",
      "210.0 -> 11000011\n",
      "203.0 -> 11000100\n",
      "202.0 -> 11000101\n",
      "220.0 -> 11000110\n",
      "240.0 -> 110001110\n",
      "19.0 -> 110001111\n",
      "225.0 -> 11001000\n",
      "137.0 -> 11001001\n",
      "95.0 -> 1100101\n",
      "93.0 -> 1100110\n",
      "60.0 -> 11001110\n",
      "29.0 -> 110011110\n",
      "244.0 -> 1100111110\n",
      "249.0 -> 11001111110\n",
      "248.0 -> 11001111111\n",
      "94.0 -> 1101000\n",
      "209.0 -> 11010010\n",
      "136.0 -> 11010011\n",
      "135.0 -> 11010100\n",
      "28.0 -> 110101010\n",
      "54.0 -> 110101011\n",
      "134.0 -> 11010110\n",
      "133.0 -> 11010111\n",
      "204.0 -> 11011000\n",
      "221.0 -> 11011001\n",
      "61.0 -> 11011010\n",
      "20.0 -> 110110110\n",
      "14.0 -> 1101101110\n",
      "10.0 -> 11011011110\n",
      "247.0 -> 11011011111\n",
      "224.0 -> 11011100\n",
      "132.0 -> 11011101\n",
      "205.0 -> 11011110\n",
      "223.0 -> 11011111\n",
      "208.0 -> 11100000\n",
      "222.0 -> 11100001\n",
      "27.0 -> 111000100\n",
      "243.0 -> 1110001010\n",
      "42.0 -> 1110001011\n",
      "239.0 -> 111000110\n",
      "21.0 -> 111000111\n",
      "206.0 -> 11100100\n",
      "207.0 -> 11100101\n",
      "39.0 -> 1110011000\n",
      "37.0 -> 1110011001\n",
      "231.0 -> 111001101\n",
      "55.0 -> 111001110\n",
      "26.0 -> 111001111\n",
      "22.0 -> 111010000\n",
      "41.0 -> 1110100010\n",
      "40.0 -> 1110100011\n",
      "23.0 -> 111010010\n",
      "24.0 -> 111010011\n",
      "232.0 -> 111010100\n",
      "25.0 -> 111010101\n",
      "62.0 -> 11101011\n",
      "131.0 -> 11101100\n",
      "233.0 -> 111011010\n",
      "8.0 -> 111011011000\n",
      "5.0 -> 1110110110010\n",
      "2.0 -> 11101101100110\n",
      "1.0 -> 111011011001110\n",
      "0.0 -> 111011011001111\n",
      "11.0 -> 11101101101\n",
      "38.0 -> 1110110111\n",
      "72.0 -> 11101110\n",
      "71.0 -> 11101111\n",
      "73.0 -> 11110000\n",
      "238.0 -> 111100010\n",
      "46.0 -> 1111000110\n",
      "36.0 -> 1111000111\n",
      "69.0 -> 11110010\n",
      "15.0 -> 1111001100\n",
      "43.0 -> 1111001101\n",
      "234.0 -> 111100111\n",
      "130.0 -> 11110100\n",
      "74.0 -> 11110101\n",
      "230.0 -> 111101100\n",
      "35.0 -> 1111011010\n",
      "44.0 -> 1111011011\n",
      "63.0 -> 11110111\n",
      "70.0 -> 11111000\n",
      "68.0 -> 11111001\n",
      "115.0 -> 11111010\n",
      "129.0 -> 11111011\n",
      "117.0 -> 11111100\n",
      "164.0 -> 111111010\n",
      "45.0 -> 1111110110\n",
      "34.0 -> 1111110111\n",
      "116.0 -> 11111110\n",
      "165.0 -> 111111110\n",
      "167.0 -> 111111111\n"
     ]
    },
    {
     "data": {
      "image/png": "[encoded data removed]",
      "text/plain": [
       "<Figure size 432x288 with 1 Axes>"
      ]
     },
     "metadata": {
      "needs_background": "light"
     },
     "output_type": "display_data"
    }
   ],
   "source": [
    "# A Huffman Tree Node\n",
    "import heapq\n",
    " \n",
    " \n",
    "class node:\n",
    "    def __init__(self, freq, symbol, left=None, right=None):\n",
    "        # frequency of symbol\n",
    "        self.freq = freq\n",
    " \n",
    "        # symbol name (character)\n",
    "        self.symbol = symbol\n",
    " \n",
    "        # node left of current node\n",
    "        self.left = left\n",
    " \n",
    "        # node right of current node\n",
    "        self.right = right\n",
    " \n",
    "        # tree direction (0/1)\n",
    "        self.huff = ''\n",
    " \n",
    "    def __lt__(self, nxt):\n",
    "        return self.freq < nxt.freq\n",
    " \n",
    " \n",
    "# utility function to print huffman\n",
    "# codes for all symbols in the newly\n",
    "# created Huffman tree\n",
    "def printNodes(node, val=''):\n",
    " \n",
    "    # huffman code for current node\n",
    "    newVal = val + str(node.huff)\n",
    " \n",
    "    # if node is not an edge node\n",
    "    # then traverse inside it\n",
    "    if(node.left):\n",
    "        printNodes(node.left, newVal)\n",
    "    if(node.right):\n",
    "        printNodes(node.right, newVal)\n",
    " \n",
    "        # if node is edge node then\n",
    "        # display its huffman code\n",
    "    if(not node.left and not node.right):\n",
    "        print(f\"{node.symbol} -> {newVal}\")\n",
    " \n",
    "x = cv2.imread(\"file1.jpg\")\n",
    "xi = x.ravel()\n",
    "symbol_ocorr, symbol_list, patches = plt.hist(xi,256,[0,256]) \n",
    "# characters for huffman tree\n",
    "chars = symbol_list\n",
    " \n",
    "# frequency of characters\n",
    "freq = symbol_ocorr\n",
    " \n",
    "# list containing unused nodes\n",
    "nodes = []\n",
    " \n",
    "# converting characters and frequencies\n",
    "# into huffman tree nodes\n",
    "for x in range(len(chars)-1):\n",
    "    heapq.heappush(nodes, node(freq[x], chars[x]))\n",
    " \n",
    "while len(nodes) > 1:\n",
    " \n",
    "    # sort all the nodes in ascending order\n",
    "    # based on their frequency\n",
    "    left = heapq.heappop(nodes)\n",
    "    right = heapq.heappop(nodes)\n",
    " \n",
    "    # assign directional value to these nodes\n",
    "    left.huff = 0\n",
    "    right.huff = 1\n",
    " \n",
    "    # combine the 2 smallest nodes to create\n",
    "    # new node as their parent\n",
    "    newNode = node(left.freq+right.freq, left.symbol+right.symbol, left, right)\n",
    " \n",
    "    heapq.heappush(nodes, newNode)\n",
    " \n",
    "# Huffman Tree is ready!\n",
    "printNodes(nodes[0])\n",
    "\n"
   ]
  },
  {
   "cell_type": "code",
   "execution_count": 158,
   "id": "3a73e981",
   "metadata": {},
   "outputs": [
    {
     "name": "stdout",
     "output_type": "stream",
     "text": [
      "{'D': '0', 'A': '1'}\n"
     ]
    }
   ],
   "source": [
    "symbols = {'A', 'B', 'C', 'D'}\n",
    "probabilities = [0.1, 0.4, 0.2, 0.3]\n",
    "\n",
    "codes = gen_huff_table(symbols, probabilities)\n",
    "print(codes)\n"
   ]
  },
  {
   "cell_type": "code",
   "execution_count": 167,
   "id": "5463a9f6",
   "metadata": {},
   "outputs": [],
   "source": [
    "def encode_huff(message, codes):\n",
    "    # Initialize an empty bit sequence\n",
    "    bits = \"\"\n",
    "\n",
    "    # Encode each symbol in the message using its Huffman code\n",
    "    for symbol in message:\n",
    "        bits += codes[symbol]\n",
    "\n",
    "    # Return the resulting bit sequence\n",
    "    return bits\n"
   ]
  },
  {
   "cell_type": "code",
   "execution_count": 171,
   "id": "9019191b",
   "metadata": {},
   "outputs": [
    {
     "name": "stdout",
     "output_type": "stream",
     "text": [
      "10011210\n"
     ]
    }
   ],
   "source": [
    "message = \"ABCDA\"\n",
    "codes = {'A': '10', 'B': '0', 'C': '11', 'D': '2'}\n",
    "\n",
    "bits = encode_huff(message, codes)\n",
    "print(bits)\n"
   ]
  },
  {
   "cell_type": "code",
   "execution_count": 172,
   "id": "26c93410",
   "metadata": {},
   "outputs": [],
   "source": [
    "def decode_huff(bits, codes):\n",
    "    # Initialize an empty decoded message\n",
    "    message = \"\"\n",
    "\n",
    "    # Initialize a buffer for the current bit sequence\n",
    "    buffer = \"\"\n",
    "\n",
    "    # Iterate over each bit in the bit sequence\n",
    "    for bit in bits:\n",
    "        # Add the bit to the buffer\n",
    "        buffer += bit\n",
    "\n",
    "        # Check if the buffer contains a Huffman code\n",
    "        if buffer in codes.values():\n",
    "            # Decode the symbol corresponding to the code\n",
    "            symbol = list(codes.keys())[list(codes.values()).index(buffer)]\n",
    "\n",
    "            # Add the symbol to the decoded message\n",
    "            message += symbol\n",
    "\n",
    "            # Reset the buffer\n",
    "            buffer = \"\"\n",
    "\n",
    "    # Return the decoded message\n",
    "    return message"
   ]
  },
  {
   "cell_type": "code",
   "execution_count": 173,
   "id": "61de9756",
   "metadata": {},
   "outputs": [
    {
     "name": "stdout",
     "output_type": "stream",
     "text": [
      "True\n"
     ]
    }
   ],
   "source": [
    "message = \"ABCDA\"\n",
    "codes = {'A': '10', 'B': '0', 'C': '11', 'D': '2'}\n",
    "\n",
    "bits = encode_huff(message, codes)\n",
    "decoded_message = decode_huff(bits, codes)\n",
    "\n",
    "print(message == decoded_message)  # True"
   ]
  },
  {
   "cell_type": "code",
   "execution_count": 4,
   "id": "1af0ab77",
   "metadata": {
    "scrolled": true
   },
   "outputs": [
    {
     "name": "stdout",
     "output_type": "stream",
     "text": [
      "[ 7 19  9  7  5 14]\n",
      "[(0,), (1,), (2,), (3,), (4,), (5,)]\n",
      "['', '', '', '', '', '']\n",
      "[ 7 19  9  7  5 14]\n",
      "4 0\n",
      "[(1,), (2,), (3,), (4, 0), (5,)]\n",
      "['1', '', '', '', '0', '']\n",
      "[19  9  7 12 14]\n",
      "2 1\n",
      "[(1,), (3, 2), (4, 0), (5,)]\n",
      "['1', '', '1', '0', '0', '']\n",
      "[19 16 12 14]\n",
      "2 3\n",
      "[(1,), (3, 2), (4, 0, 5)]\n",
      "['01', '', '1', '0', '00', '1']\n",
      "[19 16 26]\n",
      "1 0\n",
      "[(3, 2, 1), (4, 0, 5)]\n",
      "['01', '1', '01', '00', '00', '1']\n",
      "[35 26]\n",
      "1 0\n",
      "['001', '11', '101', '100', '000', '01']\n"
     ]
    }
   ],
   "source": [
    "def huffman(p):\n",
    "    N=len(p)\n",
    "    simb=[(i,) for i in range(N)]\n",
    "    cod = ['']*N\n",
    "    while len(p)>1:\n",
    "        print(simb)\n",
    "        print(cod)\n",
    "        print(p)\n",
    "        idx = np.argsort(p)\n",
    "        i0 = idx[0]\n",
    "        i1 = idx[1]\n",
    "        print(i0,i1)\n",
    "        for i in simb[i0]:\n",
    "            cod[i] = '0'+cod[i]\n",
    "        for i in simb[i1]:\n",
    "            cod[i] = '1'+cod[i]\n",
    "        \n",
    "        p[i0] = p[i0] + p[i1]\n",
    "        p = np.delete(p, i1)\n",
    "        simb[i0] = simb[i0] + simb[i1]\n",
    "        simb.remove(simb[i1])\n",
    "        \n",
    "    return cod\n",
    "\n",
    "p = np.random.randint(1,20,6)\n",
    "print(p)\n",
    "print(huffman(p))"
   ]
  },
  {
   "cell_type": "code",
   "execution_count": 42,
   "id": "fb9e7ead",
   "metadata": {},
   "outputs": [
    {
     "name": "stdout",
     "output_type": "stream",
     "text": [
      "32\n"
     ]
    }
   ],
   "source": [
    "import re\n",
    "s='01010101010101001010010101010110'\n",
    "print(len(s))\n",
    "a = re.findall('[01]{8}',s)"
   ]
  },
  {
   "cell_type": "code",
   "execution_count": 43,
   "id": "fec2d1dc",
   "metadata": {},
   "outputs": [
    {
     "data": {
      "text/plain": [
       "85"
      ]
     },
     "execution_count": 43,
     "metadata": {},
     "output_type": "execute_result"
    }
   ],
   "source": [
    "int(a[0],2)"
   ]
  },
  {
   "cell_type": "code",
   "execution_count": 44,
   "id": "1a9a88b8",
   "metadata": {},
   "outputs": [],
   "source": [
    "b=np.array([int(i,2) for i in a],dtype = 'uint8' )"
   ]
  },
  {
   "cell_type": "code",
   "execution_count": 45,
   "id": "a3732f73",
   "metadata": {},
   "outputs": [],
   "source": [
    "f =open('xpto3.b','wb')\n",
    "f.write(b)\n",
    "f.close()"
   ]
  },
  {
   "cell_type": "code",
   "execution_count": 100,
   "id": "9aff1dc4",
   "metadata": {},
   "outputs": [],
   "source": [
    "a = np.fromfile('DecUniversalDH.txt',dtype='uint8')"
   ]
  },
  {
   "cell_type": "code",
   "execution_count": 101,
   "id": "d10a5d5e",
   "metadata": {
    "scrolled": true
   },
   "outputs": [
    {
     "data": {
      "text/plain": [
       "array([ 10,  68, 101, ...,  46,  10,  10], dtype=uint8)"
      ]
     },
     "execution_count": 101,
     "metadata": {},
     "output_type": "execute_result"
    }
   ],
   "source": [
    "a"
   ]
  },
  {
   "cell_type": "code",
   "execution_count": 107,
   "id": "c8327e2a",
   "metadata": {
    "scrolled": true
   },
   "outputs": [
    {
     "name": "stdout",
     "output_type": "stream",
     "text": [
      "0.999\n",
      "[ 10  32  44  45  46  48  49  50  51  52  53  54  55  56  57  58  59  65\n",
      "  67  68  69  71  72  78  79  80  81  84  85  97  98  99 100 101 102 103\n",
      " 104 105 106 108 109 110 111 112 113 114 115 116 117 118 120 122 160 161\n",
      " 162 163 167 169 170 173 179 181 186 194 195]\n",
      "[0.013 0.158 0.01  0.    0.008 0.    0.001 0.001 0.    0.    0.    0.\n",
      " 0.    0.    0.    0.    0.001 0.003 0.001 0.001 0.001 0.    0.    0.001\n",
      " 0.    0.    0.    0.003 0.001 0.083 0.006 0.024 0.052 0.096 0.006 0.01\n",
      " 0.004 0.061 0.002 0.021 0.029 0.038 0.081 0.02  0.005 0.051 0.061 0.04\n",
      " 0.027 0.009 0.001 0.002 0.002 0.002 0.    0.007 0.008 0.003 0.002 0.003\n",
      " 0.001 0.002 0.003 0.003 0.031]\n",
      "[ 160 1883  115    5   90    3   13   13    4    3    3    3    3    3\n",
      "    3    1   11   40   10   11    7    1    3   15    5    2    1   30\n",
      "    7  991   69  287  618 1143   72  117   46  733   19  256  342  449\n",
      "  970  234   57  612  729  480  323  110   13   22   25   23    5   86\n",
      "   90   31   18   41   13   25   38   30  365]\n"
     ]
    }
   ],
   "source": [
    "import numpy as np\n",
    "import matplotlib.pyplot as plt\n",
    "\n",
    "# Example array of ASCII character codes\n",
    "arr = np.array([100, 102, 99, 99, 99, 100, 113, 126, 120], dtype=np.uint8)\n",
    "\n",
    "# Compute the histogram of the ASCII character codes\n",
    "hist, bin_edges = np.histogram(a, bins=np.arange(256))\n",
    "\n",
    "# Convert the count of occurrences to percentages\n",
    "hist_pct = hist / a.size\n",
    "\n",
    "hist_pct = hist_pct[hist_pct != 0]\n",
    "\n",
    "hist_pct = np.round(hist_pct, decimals=3)\n",
    "\n",
    "bincount = np.bincount(a)\n",
    "\n",
    "bincount = bincount[bincount != 0]\n",
    "\n",
    "print(np.sum(hist_pct))\n",
    "\n",
    "print(np.unique(a))\n",
    "\n",
    "print(hist_pct)\n",
    "\n",
    "print(bincount)"
   ]
  },
  {
   "cell_type": "code",
   "execution_count": 93,
   "id": "8fdaa862",
   "metadata": {
    "scrolled": true
   },
   "outputs": [
    {
     "name": "stdout",
     "output_type": "stream",
     "text": [
      "[(0,), (1,), (2,), (3,), (4,), (5,), (6,), (7,), (8,), (9,), (10,), (11,), (12,)]\n",
      "['', '', '', '', '', '', '', '', '', '', '', '', '']\n",
      "[3 2 1 2 1 1 1 2 1 2 2 2 1]\n",
      "2 4\n",
      "[(0,), (1,), (2, 4), (3,), (5,), (6,), (7,), (8,), (9,), (10,), (11,), (12,)]\n",
      "['', '', '0', '', '1', '', '', '', '', '', '', '', '']\n",
      "[3 2 2 2 1 1 2 1 2 2 2 1]\n",
      "4 5\n",
      "[(0,), (1,), (2, 4), (3,), (5, 6), (7,), (8,), (9,), (10,), (11,), (12,)]\n",
      "['', '', '0', '', '1', '0', '1', '', '', '', '', '', '']\n",
      "[3 2 2 2 2 2 1 2 2 2 1]\n",
      "6 10\n",
      "[(0,), (1,), (2, 4), (3,), (5, 6), (7,), (8, 12), (9,), (10,), (11,)]\n",
      "['', '', '0', '', '1', '0', '1', '', '0', '', '', '', '1']\n",
      "[3 2 2 2 2 2 2 2 2 2]\n",
      "1 2\n",
      "[(0,), (1, 2, 4), (3,), (5, 6), (7,), (8, 12), (9,), (10,), (11,)]\n",
      "['', '0', '10', '', '11', '0', '1', '', '0', '', '', '', '1']\n",
      "[3 4 2 2 2 2 2 2 2]\n",
      "2 3\n",
      "[(0,), (1, 2, 4), (3, 5, 6), (7,), (8, 12), (9,), (10,), (11,)]\n",
      "['', '0', '10', '0', '11', '10', '11', '', '0', '', '', '', '1']\n",
      "[3 4 4 2 2 2 2 2]\n",
      "3 4\n",
      "[(0,), (1, 2, 4), (3, 5, 6), (7, 8, 12), (9,), (10,), (11,)]\n",
      "['', '0', '10', '0', '11', '10', '11', '0', '10', '', '', '', '11']\n",
      "[3 4 4 4 2 2 2]\n",
      "4 5\n",
      "[(0,), (1, 2, 4), (3, 5, 6), (7, 8, 12), (9, 10), (11,)]\n",
      "['', '0', '10', '0', '11', '10', '11', '0', '10', '0', '1', '', '11']\n",
      "[3 4 4 4 4 2]\n",
      "5 0\n",
      "[(1, 2, 4), (3, 5, 6), (7, 8, 12), (9, 10), (11, 0)]\n",
      "['1', '0', '10', '0', '11', '10', '11', '0', '10', '0', '1', '0', '11']\n",
      "[4 4 4 4 5]\n",
      "0 1\n",
      "[(1, 2, 4, 3, 5, 6), (7, 8, 12), (9, 10), (11, 0)]\n",
      "['1', '00', '010', '10', '011', '110', '111', '0', '10', '0', '1', '0', '11']\n",
      "[8 4 4 5]\n",
      "1 2\n",
      "[(1, 2, 4, 3, 5, 6), (7, 8, 12, 9, 10), (11, 0)]\n",
      "['1', '00', '010', '10', '011', '110', '111', '00', '010', '10', '11', '0', '011']\n",
      "[8 8 5]\n",
      "2 0\n",
      "[(7, 8, 12, 9, 10), (11, 0, 1, 2, 4, 3, 5, 6)]\n",
      "['01', '100', '1010', '110', '1011', '1110', '1111', '00', '010', '10', '11', '00', '011']\n",
      "[ 8 13]\n",
      "0 1\n",
      "['101', '1100', '11010', '1110', '11011', '11110', '11111', '000', '0010', '010', '011', '100', '0011']\n"
     ]
    }
   ],
   "source": [
    "print(huffman(bincount))\n",
    "#print(len(huffman(bincount)))"
   ]
  },
  {
   "cell_type": "code",
   "execution_count": 94,
   "id": "48863784",
   "metadata": {},
   "outputs": [],
   "source": [
    "def encode_huff(message, codes):\n",
    "    # Initialize an empty bit sequence\n",
    "    bits = \"\"\n",
    "\n",
    "    # Encode each symbol in the message using its Huffman code\n",
    "    for symbol in message:\n",
    "        bits += codes[symbol]\n",
    "\n",
    "    # Return the resulting bit sequence\n",
    "    return bits"
   ]
  },
  {
   "cell_type": "code",
   "execution_count": 98,
   "id": "3cc5c1e7",
   "metadata": {},
   "outputs": [
    {
     "name": "stdout",
     "output_type": "stream",
     "text": [
      "[(0,), (1,), (2,), (3,), (4,), (5,), (6,), (7,), (8,), (9,), (10,), (11,), (12,)]\n",
      "['', '', '', '', '', '', '', '', '', '', '', '', '']\n",
      "[3 2 2 2 2 2 2 2 1 2 2 2 1]\n",
      "8 12\n",
      "[(0,), (1,), (2,), (3,), (4,), (5,), (6,), (7,), (8, 12), (9,), (10,), (11,)]\n",
      "['', '', '', '', '', '', '', '', '0', '', '', '', '1']\n",
      "[3 2 2 2 2 2 2 2 2 2 2 2]\n",
      "1 2\n",
      "[(0,), (1, 2), (3,), (4,), (5,), (6,), (7,), (8, 12), (9,), (10,), (11,)]\n",
      "['', '0', '1', '', '', '', '', '', '0', '', '', '', '1']\n",
      "[3 4 2 2 2 2 2 2 2 2 2]\n",
      "2 3\n",
      "[(0,), (1, 2), (3, 4), (5,), (6,), (7,), (8, 12), (9,), (10,), (11,)]\n",
      "['', '0', '1', '0', '1', '', '', '', '0', '', '', '', '1']\n",
      "[3 4 4 2 2 2 2 2 2 2]\n",
      "3 4\n",
      "[(0,), (1, 2), (3, 4), (5, 6), (7,), (8, 12), (9,), (10,), (11,)]\n",
      "['', '0', '1', '0', '1', '0', '1', '', '0', '', '', '', '1']\n",
      "[3 4 4 4 2 2 2 2 2]\n",
      "4 5\n",
      "[(0,), (1, 2), (3, 4), (5, 6), (7, 8, 12), (9,), (10,), (11,)]\n",
      "['', '0', '1', '0', '1', '0', '1', '0', '10', '', '', '', '11']\n",
      "[3 4 4 4 4 2 2 2]\n",
      "5 6\n",
      "[(0,), (1, 2), (3, 4), (5, 6), (7, 8, 12), (9, 10), (11,)]\n",
      "['', '0', '1', '0', '1', '0', '1', '0', '10', '0', '1', '', '11']\n",
      "[3 4 4 4 4 4 2]\n",
      "6 0\n",
      "[(1, 2), (3, 4), (5, 6), (7, 8, 12), (9, 10), (11, 0)]\n",
      "['1', '0', '1', '0', '1', '0', '1', '0', '10', '0', '1', '0', '11']\n",
      "[4 4 4 4 4 5]\n",
      "0 1\n",
      "[(1, 2, 3, 4), (5, 6), (7, 8, 12), (9, 10), (11, 0)]\n",
      "['1', '00', '01', '10', '11', '0', '1', '0', '10', '0', '1', '0', '11']\n",
      "[8 4 4 4 5]\n",
      "1 2\n",
      "[(1, 2, 3, 4), (5, 6, 7, 8, 12), (9, 10), (11, 0)]\n",
      "['1', '00', '01', '10', '11', '00', '01', '10', '110', '0', '1', '0', '111']\n",
      "[8 8 4 5]\n",
      "2 3\n",
      "[(1, 2, 3, 4), (5, 6, 7, 8, 12), (9, 10, 11, 0)]\n",
      "['11', '00', '01', '10', '11', '00', '01', '10', '110', '00', '01', '10', '111']\n",
      "[8 8 9]\n",
      "0 1\n",
      "[(1, 2, 3, 4, 5, 6, 7, 8, 12), (9, 10, 11, 0)]\n",
      "['11', '000', '001', '010', '011', '100', '101', '110', '1110', '00', '01', '10', '1111']\n",
      "[16  9]\n",
      "1 0\n",
      "['011', '1000', '1001', '1010', '1011', '1100', '1101', '1110', '11110', '000', '001', '010', '11111']\n"
     ]
    },
    {
     "ename": "TypeError",
     "evalue": "list indices must be integers or slices, not str",
     "output_type": "error",
     "traceback": [
      "\u001b[1;31m---------------------------------------------------------------------------\u001b[0m",
      "\u001b[1;31mTypeError\u001b[0m                                 Traceback (most recent call last)",
      "\u001b[1;32m~\\AppData\\Local\\Temp/ipykernel_21488/1652625599.py\u001b[0m in \u001b[0;36m<module>\u001b[1;34m\u001b[0m\n\u001b[0;32m      3\u001b[0m \u001b[0mprint\u001b[0m\u001b[1;33m(\u001b[0m\u001b[0mcodes\u001b[0m\u001b[1;33m)\u001b[0m\u001b[1;33m\u001b[0m\u001b[1;33m\u001b[0m\u001b[0m\n\u001b[0;32m      4\u001b[0m \u001b[1;33m\u001b[0m\u001b[0m\n\u001b[1;32m----> 5\u001b[1;33m \u001b[0mbits\u001b[0m \u001b[1;33m=\u001b[0m \u001b[0mencode_huff\u001b[0m\u001b[1;33m(\u001b[0m\u001b[0mmessage\u001b[0m\u001b[1;33m,\u001b[0m \u001b[0mcodes\u001b[0m\u001b[1;33m)\u001b[0m\u001b[1;33m\u001b[0m\u001b[1;33m\u001b[0m\u001b[0m\n\u001b[0m\u001b[0;32m      6\u001b[0m \u001b[0mprint\u001b[0m\u001b[1;33m(\u001b[0m\u001b[0mbits\u001b[0m\u001b[1;33m)\u001b[0m\u001b[1;33m\u001b[0m\u001b[1;33m\u001b[0m\u001b[0m\n\u001b[0;32m      7\u001b[0m \u001b[1;31m#decoded_message = decode_huff(bits, codes)\u001b[0m\u001b[1;33m\u001b[0m\u001b[1;33m\u001b[0m\u001b[0m\n",
      "\u001b[1;32m~\\AppData\\Local\\Temp/ipykernel_21488/3676639011.py\u001b[0m in \u001b[0;36mencode_huff\u001b[1;34m(message, codes)\u001b[0m\n\u001b[0;32m      5\u001b[0m     \u001b[1;31m# Encode each symbol in the message using its Huffman code\u001b[0m\u001b[1;33m\u001b[0m\u001b[1;33m\u001b[0m\u001b[0m\n\u001b[0;32m      6\u001b[0m     \u001b[1;32mfor\u001b[0m \u001b[0msymbol\u001b[0m \u001b[1;32min\u001b[0m \u001b[0mmessage\u001b[0m\u001b[1;33m:\u001b[0m\u001b[1;33m\u001b[0m\u001b[1;33m\u001b[0m\u001b[0m\n\u001b[1;32m----> 7\u001b[1;33m         \u001b[0mbits\u001b[0m \u001b[1;33m+=\u001b[0m \u001b[0mcodes\u001b[0m\u001b[1;33m[\u001b[0m\u001b[0msymbol\u001b[0m\u001b[1;33m]\u001b[0m\u001b[1;33m\u001b[0m\u001b[1;33m\u001b[0m\u001b[0m\n\u001b[0m\u001b[0;32m      8\u001b[0m \u001b[1;33m\u001b[0m\u001b[0m\n\u001b[0;32m      9\u001b[0m     \u001b[1;31m# Return the resulting bit sequence\u001b[0m\u001b[1;33m\u001b[0m\u001b[1;33m\u001b[0m\u001b[0m\n",
      "\u001b[1;31mTypeError\u001b[0m: list indices must be integers or slices, not str"
     ]
    }
   ],
   "source": [
    "message = \"ABAC\"\n",
    "codes = huffman(bincount)\n",
    "print(codes)\n",
    "\n",
    "bits = encode_huff(message, codes)\n",
    "print(bits)\n",
    "#decoded_message = decode_huff(bits, codes)\n",
    "\n",
    "#print(message == decoded_message)  # True"
   ]
  },
  {
   "cell_type": "code",
   "execution_count": 1,
   "id": "6c532795",
   "metadata": {},
   "outputs": [
    {
     "name": "stdout",
     "output_type": "stream",
     "text": [
      "\n",
      "\n"
     ]
    }
   ],
   "source": [
    "newchar = '\\n'\n",
    "print(newchar)"
   ]
  },
  {
   "cell_type": "code",
   "execution_count": null,
   "id": "9a3b7d0f",
   "metadata": {},
   "outputs": [],
   "source": []
  }
 ],
 "metadata": {
  "kernelspec": {
   "display_name": "Python 3 (ipykernel)",
   "language": "python",
   "name": "python3"
  },
  "language_info": {
   "codemirror_mode": {
    "name": "ipython",
    "version": 3
   },
   "file_extension": ".py",
   "mimetype": "text/x-python",
   "name": "python",
   "nbconvert_exporter": "python",
   "pygments_lexer": "ipython3",
   "version": "3.9.7"
  }
 },
 "nbformat": 4,
 "nbformat_minor": 5
}
